{
 "cells": [
  {
   "cell_type": "code",
   "execution_count": 449,
   "id": "9ca12ed3-7bea-4902-b69e-d6a49dc805ff",
   "metadata": {},
   "outputs": [],
   "source": [
    "import pandas as pd\n",
    "import re\n",
    "import nltk\n",
    "import spacy\n",
    "import warnings\n",
    "warnings.filterwarnings('ignore')\n",
    "from gensim.parsing.preprocessing import remove_stopwords\n",
    "from scipy import spatial\n",
    "import importlib\n",
    "import process_mining\n",
    "import nlp_mod"
   ]
  },
  {
   "cell_type": "code",
   "execution_count": 450,
   "id": "76369e55-4207-4946-961b-85179c96f7f0",
   "metadata": {},
   "outputs": [],
   "source": [
    "nltk.download('averaged_perceptron_tagger', quiet = True)\n",
    "nltk.download('wordnet', quiet = True)\n",
    "nltk.download('stopwords', quiet = True)\n",
    "nltk.download('punkt', quiet = True)\n",
    "pd.set_option('display.max_colwidth', 200)"
   ]
  },
  {
   "cell_type": "code",
   "execution_count": 451,
   "id": "43ce49df-570a-4ad0-ad29-81d503efd3fa",
   "metadata": {},
   "outputs": [],
   "source": [
    "#may need to add spacy download or python -m spacy download en_core_web_lg\n",
    "nlp = spacy.load('en_core_web_lg')"
   ]
  },
  {
   "cell_type": "code",
   "execution_count": 452,
   "id": "71ff2d50-53ba-4fae-a539-297a0950e692",
   "metadata": {},
   "outputs": [],
   "source": [
    "raw_data = pd.read_excel('C:/Users/chahb/Hackpions4/final_dataset.xlsx')"
   ]
  },
  {
   "cell_type": "code",
   "execution_count": 454,
   "id": "3ffe7af2-ca19-4c1d-9ac9-bbfe4793143d",
   "metadata": {},
   "outputs": [],
   "source": [
    "# unique step for extra column issue with provided dataset\n",
    "cols_to_del = [x for x in raw_data.columns if x.startswith('Unnamed')]\n",
    "raw_data.drop(columns = cols_to_del, inplace = True)\n",
    "del cols_to_del"
   ]
  },
  {
   "cell_type": "code",
   "execution_count": 455,
   "id": "253ff955-13fb-40a1-af90-417be96c82fe",
   "metadata": {},
   "outputs": [
    {
     "data": {
      "text/plain": [
       "array(['Account eye ', 'Backup', 'Billing B', 'Chrome browser', 'Citrix',\n",
       "       'Edge browser', 'Excel', 'Face reading application', 'Facebook',\n",
       "       'Firefox browser', 'HR Saturn', 'LAN', 'Leave application',\n",
       "       'Memory', 'Mozilla  browser', 'Power point', 'Printer',\n",
       "       'Remote connect', 'Router', 'Scanner', 'Skype for Desktop',\n",
       "       'Storage', 'Teams for Desktop', 'Ticketing application',\n",
       "       'Time Sheet', 'Twitter', 'WAN', 'World'], dtype=object)"
      ]
     },
     "execution_count": 455,
     "metadata": {},
     "output_type": "execute_result"
    }
   ],
   "source": [
    "raw_data['Impacted application'].unique()"
   ]
  },
  {
   "cell_type": "code",
   "execution_count": 456,
   "id": "554cea39-3da1-49df-a380-80c02e954e87",
   "metadata": {},
   "outputs": [
    {
     "data": {
      "text/plain": [
       "<AxesSubplot:>"
      ]
     },
     "execution_count": 456,
     "metadata": {},
     "output_type": "execute_result"
    },
    {
     "data": {
      "image/png": "[encoded data removed]",
      "text/plain": [
       "<Figure size 432x288 with 1 Axes>"
      ]
     },
     "metadata": {
      "needs_background": "light"
     },
     "output_type": "display_data"
    }
   ],
   "source": [
    "logs = process_mining.filter_affected_app_logs('Billing B',raw_data)[['Short Description','Work notes']] #will include SubClass\n",
    "logs['Short Description'].value_counts().plot(kind = 'barh')"
   ]
  },
  {
   "cell_type": "code",
   "execution_count": 457,
   "id": "de389f44-a2ec-48e2-8f3e-ccc8d16dd029",
   "metadata": {},
   "outputs": [],
   "source": [
    "logs['Short Description'] = logs.apply(lambda s: nlp_mod.preprocess_text(s['Short Description']), axis = 1)    "
   ]
  },
  {
   "cell_type": "code",
   "execution_count": 458,
   "id": "29ef005d-f9de-434e-9bb0-71c4c2f7c7f4",
   "metadata": {},
   "outputs": [
    {
     "name": "stdout",
     "output_type": "stream",
     "text": [
      "application billing slow performance\n",
      "401 appears application launched\n",
      "cannot access application\n",
      "access not permited 301\n",
      "501 appears login\n"
     ]
    }
   ],
   "source": [
    "for doc in logs['Short Description'].unique():\n",
    "    print(doc)"
   ]
  },
  {
   "cell_type": "markdown",
   "id": "aab97440",
   "metadata": {},
   "source": [
    "## Auto-Clustering test"
   ]
  },
  {
   "cell_type": "code",
   "execution_count": 463,
   "id": "98d4520e",
   "metadata": {},
   "outputs": [],
   "source": [
    "i = 0\n",
    "clusterFrame = raw_data[['Number', 'Impacted application', 'Short Description','Work notes']].head(25)"
   ]
  },
  {
   "cell_type": "code",
   "execution_count": 464,
   "id": "33da4ed6",
   "metadata": {},
   "outputs": [],
   "source": [
    "clusterFrame['SubClass'] = 'NO_MATCH'"
   ]
  },
  {
   "cell_type": "code",
   "execution_count": 465,
   "id": "3c65387e",
   "metadata": {},
   "outputs": [
    {
     "data": {
      "text/html": [
       "<div>\n",
       "<style scoped>\n",
       "    .dataframe tbody tr th:only-of-type {\n",
       "        vertical-align: middle;\n",
       "    }\n",
       "\n",
       "    .dataframe tbody tr th {\n",
       "        vertical-align: top;\n",
       "    }\n",
       "\n",
       "    .dataframe thead th {\n",
       "        text-align: right;\n",
       "    }\n",
       "</style>\n",
       "<table border=\"1\" class=\"dataframe\">\n",
       "  <thead>\n",
       "    <tr style=\"text-align: right;\">\n",
       "      <th></th>\n",
       "      <th>Number</th>\n",
       "      <th>Impacted application</th>\n",
       "      <th>Short Description</th>\n",
       "      <th>Work notes</th>\n",
       "      <th>SubClass</th>\n",
       "    </tr>\n",
       "  </thead>\n",
       "  <tbody>\n",
       "    <tr>\n",
       "      <th>0</th>\n",
       "      <td>INC100032</td>\n",
       "      <td>Account eye</td>\n",
       "      <td>An error message appears when launching</td>\n",
       "      <td>23-03-2021  08:59:28 - Service Desk created the ticket (Work notes)\\nAutomatic Assignment to Agent D in Service Desk team.\\n\\n23-03-2021  09:39:28 - Agent D (Work notes)\\nUser can't logging to Acc...</td>\n",
       "      <td>Account eye _SubClass_1</td>\n",
       "    </tr>\n",
       "    <tr>\n",
       "      <th>1</th>\n",
       "      <td>INC100043</td>\n",
       "      <td>Account eye</td>\n",
       "      <td>There is an error message as soon the application is ran</td>\n",
       "      <td>05-05-2021 04:08:38- Service Desk created the ticket (Work notes)\\nAssignment to Agent B in Service Desk team.\\n\\n05-05-2021 05:08:38- Agent B (Work notes)\\nUser can't accessing to Application eye...</td>\n",
       "      <td>Account eye _SubClass_1</td>\n",
       "    </tr>\n",
       "    <tr>\n",
       "      <th>2</th>\n",
       "      <td>INC100023</td>\n",
       "      <td>Account eye</td>\n",
       "      <td>Users facing Slow performance issues while using account eye application</td>\n",
       "      <td>11-01-2021  11:08:38 - Service Desk created the ticket (Work notes)\\nAutomatic Assignment to Agent X in Service Desk team.\\n\\n11-01-2021  13:08:38 - Agent X (Work notes)\\n\"User is unable to access...</td>\n",
       "      <td>Account eye _SubClass_2</td>\n",
       "    </tr>\n",
       "    <tr>\n",
       "      <th>3</th>\n",
       "      <td>INC100004</td>\n",
       "      <td>Account eye</td>\n",
       "      <td>Users in Russia are unable to access the account eye application. Getting error 401</td>\n",
       "      <td>11-01-2021  11:08:38 - Service Desk created the ticket (Work notes)\\nAutomatic Assignment to Agent D in Service Desk team.\\n\\n11-01-2021  12:08:38 - Agent D (Work notes)\\nUser can't unable to acce...</td>\n",
       "      <td>Account eye _SubClass_3</td>\n",
       "    </tr>\n",
       "    <tr>\n",
       "      <th>4</th>\n",
       "      <td>INC100056</td>\n",
       "      <td>Backup</td>\n",
       "      <td>Backup process has an error at 34%</td>\n",
       "      <td>02-07-2021  05:01:32 - Service Desk created the ticket (Work notes)\\nAssignment to Agent C in Service Desk team.\\n\\n02-07-2021  05:11:32 - Agent C (Worknotes)\\n\"Backup is failing for the user.\\n\\n...</td>\n",
       "      <td>Backup_SubClass_1</td>\n",
       "    </tr>\n",
       "  </tbody>\n",
       "</table>\n",
       "</div>"
      ],
      "text/plain": [
       "      Number Impacted application  \\\n",
       "0  INC100032         Account eye    \n",
       "1  INC100043         Account eye    \n",
       "2  INC100023         Account eye    \n",
       "3  INC100004         Account eye    \n",
       "4  INC100056               Backup   \n",
       "\n",
       "                                                                     Short Description  \\\n",
       "0                                              An error message appears when launching   \n",
       "1                             There is an error message as soon the application is ran   \n",
       "2             Users facing Slow performance issues while using account eye application   \n",
       "3  Users in Russia are unable to access the account eye application. Getting error 401   \n",
       "4                                                   Backup process has an error at 34%   \n",
       "\n",
       "                                                                                                                                                                                                Work notes  \\\n",
       "0  23-03-2021  08:59:28 - Service Desk created the ticket (Work notes)\\nAutomatic Assignment to Agent D in Service Desk team.\\n\\n23-03-2021  09:39:28 - Agent D (Work notes)\\nUser can't logging to Acc...   \n",
       "1  05-05-2021 04:08:38- Service Desk created the ticket (Work notes)\\nAssignment to Agent B in Service Desk team.\\n\\n05-05-2021 05:08:38- Agent B (Work notes)\\nUser can't accessing to Application eye...   \n",
       "2  11-01-2021  11:08:38 - Service Desk created the ticket (Work notes)\\nAutomatic Assignment to Agent X in Service Desk team.\\n\\n11-01-2021  13:08:38 - Agent X (Work notes)\\n\"User is unable to access...   \n",
       "3  11-01-2021  11:08:38 - Service Desk created the ticket (Work notes)\\nAutomatic Assignment to Agent D in Service Desk team.\\n\\n11-01-2021  12:08:38 - Agent D (Work notes)\\nUser can't unable to acce...   \n",
       "4  02-07-2021  05:01:32 - Service Desk created the ticket (Work notes)\\nAssignment to Agent C in Service Desk team.\\n\\n02-07-2021  05:11:32 - Agent C (Worknotes)\\n\"Backup is failing for the user.\\n\\n...   \n",
       "\n",
       "                  SubClass  \n",
       "0  Account eye _SubClass_1  \n",
       "1  Account eye _SubClass_1  \n",
       "2  Account eye _SubClass_2  \n",
       "3  Account eye _SubClass_3  \n",
       "4        Backup_SubClass_1  "
      ]
     },
     "execution_count": 465,
     "metadata": {},
     "output_type": "execute_result"
    }
   ],
   "source": [
    "#simulating the creation of incidents\n",
    "# each iteration of the loop is a new incident\n",
    "\n",
    "for i in range(clusterFrame.shape[0]):\n",
    "    # check imacted application\n",
    "    APP_NAME = clusterFrame['Impacted application'].iloc[i]\n",
    "\n",
    "    # assign app problem subclass\n",
    "    clusterFrame['SubClass'].iloc[i] = nlp_mod.assign_incident_subclass(clusterFrame['Short Description'].iloc[i], \\\n",
    "        clusterFrame[clusterFrame['Impacted application'] == APP_NAME].loc[0:(i-1)], APP_NAME)\n",
    "\n",
    "    # display process graph\n",
    "    \n",
    "    # update process graph\n",
    "        # only if the incident is resolved\n",
    "clusterFrame.head()"
   ]
  },
  {
   "cell_type": "code",
   "execution_count": 466,
   "id": "18b1cabe",
   "metadata": {},
   "outputs": [
    {
     "data": {
      "text/html": [
       "<div>\n",
       "<style scoped>\n",
       "    .dataframe tbody tr th:only-of-type {\n",
       "        vertical-align: middle;\n",
       "    }\n",
       "\n",
       "    .dataframe tbody tr th {\n",
       "        vertical-align: top;\n",
       "    }\n",
       "\n",
       "    .dataframe thead th {\n",
       "        text-align: right;\n",
       "    }\n",
       "</style>\n",
       "<table border=\"1\" class=\"dataframe\">\n",
       "  <thead>\n",
       "    <tr style=\"text-align: right;\">\n",
       "      <th></th>\n",
       "      <th>Number</th>\n",
       "      <th>Short Description</th>\n",
       "    </tr>\n",
       "  </thead>\n",
       "  <tbody>\n",
       "    <tr>\n",
       "      <th>7</th>\n",
       "      <td>INC100018</td>\n",
       "      <td>Issue to acccess the shared drive</td>\n",
       "    </tr>\n",
       "    <tr>\n",
       "      <th>8</th>\n",
       "      <td>INC100078</td>\n",
       "      <td>Shared drive is not accessible, error 302</td>\n",
       "    </tr>\n",
       "    <tr>\n",
       "      <th>9</th>\n",
       "      <td>INC100112</td>\n",
       "      <td>Cannot access the shared drive (302)</td>\n",
       "    </tr>\n",
       "    <tr>\n",
       "      <th>10</th>\n",
       "      <td>INC100019</td>\n",
       "      <td>Shared drive cannot be accessed, shows error 302</td>\n",
       "    </tr>\n",
       "    <tr>\n",
       "      <th>11</th>\n",
       "      <td>INC100151</td>\n",
       "      <td>Shared drive not accessible for users in France</td>\n",
       "    </tr>\n",
       "    <tr>\n",
       "      <th>12</th>\n",
       "      <td>INC100063</td>\n",
       "      <td>Shared drive not opening for users</td>\n",
       "    </tr>\n",
       "    <tr>\n",
       "      <th>14</th>\n",
       "      <td>INC100150</td>\n",
       "      <td>Users in Panama encoutering Error 302 while opening Shared drive</td>\n",
       "    </tr>\n",
       "    <tr>\n",
       "      <th>15</th>\n",
       "      <td>INC100045</td>\n",
       "      <td>Users in Ukraine can't access shared drive</td>\n",
       "    </tr>\n",
       "  </tbody>\n",
       "</table>\n",
       "</div>"
      ],
      "text/plain": [
       "       Number  \\\n",
       "7   INC100018   \n",
       "8   INC100078   \n",
       "9   INC100112   \n",
       "10  INC100019   \n",
       "11  INC100151   \n",
       "12  INC100063   \n",
       "14  INC100150   \n",
       "15  INC100045   \n",
       "\n",
       "                                                   Short Description  \n",
       "7                                  Issue to acccess the shared drive  \n",
       "8                          Shared drive is not accessible, error 302  \n",
       "9                               Cannot access the shared drive (302)  \n",
       "10                  Shared drive cannot be accessed, shows error 302  \n",
       "11                   Shared drive not accessible for users in France  \n",
       "12                                Shared drive not opening for users  \n",
       "14  Users in Panama encoutering Error 302 while opening Shared drive  \n",
       "15                        Users in Ukraine can't access shared drive  "
      ]
     },
     "execution_count": 466,
     "metadata": {},
     "output_type": "execute_result"
    }
   ],
   "source": [
    "clusterFrame[clusterFrame['SubClass'] == 'Backup_SubClass_3'][['Number','Short Description']]"
   ]
  },
  {
   "cell_type": "markdown",
   "id": "6c632773",
   "metadata": {},
   "source": [
    "## Process Mining"
   ]
  },
  {
   "cell_type": "code",
   "execution_count": 467,
   "id": "1e053def",
   "metadata": {},
   "outputs": [],
   "source": [
    "process_data = []\n",
    "logs = clusterFrame[clusterFrame['SubClass'] == 'Backup_SubClass_1'][['Number','Work notes']]\n",
    "for idx in range(logs.shape[0]):\n",
    "    process_data.extend(process_mining.preprocess_worknotes(logs.iloc[idx]))"
   ]
  },
  {
   "cell_type": "code",
   "execution_count": 468,
   "id": "7f4ad70f",
   "metadata": {},
   "outputs": [],
   "source": [
    "process_data = pd.DataFrame(process_data, columns = ['Number','Timestamp','workNote'])"
   ]
  },
  {
   "cell_type": "markdown",
   "id": "d74c0fec",
   "metadata": {},
   "source": [
    "### Process Mining pipeline\n",
    "\n",
    "* This section will generate the process flowchart for the worklogs as they come.\n",
    "* This is just a proof of concept.\n",
    "* Clustering is done one an issue class basis and then within the class it is done for the steps as listed in the worknotes.\n",
    "* Common steps are custered into one group and replaced with the shortest string for presentability"
   ]
  },
  {
   "cell_type": "code",
   "execution_count": 469,
   "id": "2ffa906c",
   "metadata": {},
   "outputs": [],
   "source": [
    "demoData = pd.read_excel('demoData.xlsx')\n",
    "cols_to_del = [x for x in demoData.columns if x.startswith('Unnamed')]\n",
    "demoData.drop(columns = cols_to_del, inplace = True)"
   ]
  },
  {
   "cell_type": "code",
   "execution_count": 470,
   "id": "8a6f729c",
   "metadata": {},
   "outputs": [
    {
     "data": {
      "text/html": [
       "<div>\n",
       "<style scoped>\n",
       "    .dataframe tbody tr th:only-of-type {\n",
       "        vertical-align: middle;\n",
       "    }\n",
       "\n",
       "    .dataframe tbody tr th {\n",
       "        vertical-align: top;\n",
       "    }\n",
       "\n",
       "    .dataframe thead th {\n",
       "        text-align: right;\n",
       "    }\n",
       "</style>\n",
       "<table border=\"1\" class=\"dataframe\">\n",
       "  <thead>\n",
       "    <tr style=\"text-align: right;\">\n",
       "      <th></th>\n",
       "      <th>Number</th>\n",
       "      <th>Impacted application</th>\n",
       "      <th>Short Description</th>\n",
       "      <th>Work notes</th>\n",
       "      <th>SubClass</th>\n",
       "    </tr>\n",
       "  </thead>\n",
       "  <tbody>\n",
       "    <tr>\n",
       "      <th>0</th>\n",
       "      <td>INC100032</td>\n",
       "      <td>Account eye</td>\n",
       "      <td>An error message appears when launching</td>\n",
       "      <td>23-03-2021  08:59:28 - Service Desk created the ticket (Work notes)\\nAutomatic Assignment to Agent D in Service Desk team.\\n\\n23-03-2021  09:39:28 - Agent D (Work notes)\\nUser reported he can't lo...</td>\n",
       "      <td>Account eye _SubClass_1</td>\n",
       "    </tr>\n",
       "    <tr>\n",
       "      <th>1</th>\n",
       "      <td>INC100056</td>\n",
       "      <td>Backup</td>\n",
       "      <td>Backup process has an error at 34%</td>\n",
       "      <td>02-07-2021  05:01:32 - Service Desk created the ticket (Work notes)\\nAssignment to Agent C in Service Desk team.\\n\\n02-07-2021  05:11:32 - Agent C (Worknotes)\\nUser reported backup is failing for ...</td>\n",
       "      <td>Backup_SubClass_1</td>\n",
       "    </tr>\n",
       "    <tr>\n",
       "      <th>2</th>\n",
       "      <td>INC100018</td>\n",
       "      <td>Backup</td>\n",
       "      <td>Issue to acccess the shared drive</td>\n",
       "      <td>16-02-2021  04:29:43 - Service Desk created the ticket (Work notes)\\nAutomatic Assignment to Agent C in Service Desk team.\\n\\n16-02-2021  04:36:43 - Agent C (Worknotes)\\nUser reported is unable to...</td>\n",
       "      <td>Backup_SubClass_2</td>\n",
       "    </tr>\n",
       "    <tr>\n",
       "      <th>3</th>\n",
       "      <td>INC100019</td>\n",
       "      <td>Backup</td>\n",
       "      <td>Shared drive cannot be accessed, shows error 302</td>\n",
       "      <td>16-02-2021  04:29:43 - Service Desk created the ticket (Work notes)\\nAutomatic Assignment to Agent John in Service Desk team.\\n\\n16-02-2021  05:29:43 - Agent John (Worknotes)\\nUser reported she is...</td>\n",
       "      <td>Backup_SubClass_2</td>\n",
       "    </tr>\n",
       "    <tr>\n",
       "      <th>4</th>\n",
       "      <td>INC100151</td>\n",
       "      <td>Backup</td>\n",
       "      <td>Shared drive not accessible for users in France</td>\n",
       "      <td>04/08/21   03:55:27- Service Desk created the ticket (Work notes)\\nAssignment to Agent John in Service Desk team.\\n\\n04/08/21   04:55:27- Agent John (Worknotes)\\nUser reported is unable to access ...</td>\n",
       "      <td>Backup_SubClass_2</td>\n",
       "    </tr>\n",
       "  </tbody>\n",
       "</table>\n",
       "</div>"
      ],
      "text/plain": [
       "      Number Impacted application  \\\n",
       "0  INC100032         Account eye    \n",
       "1  INC100056               Backup   \n",
       "2  INC100018               Backup   \n",
       "3  INC100019               Backup   \n",
       "4  INC100151               Backup   \n",
       "\n",
       "                                  Short Description  \\\n",
       "0           An error message appears when launching   \n",
       "1                Backup process has an error at 34%   \n",
       "2                 Issue to acccess the shared drive   \n",
       "3  Shared drive cannot be accessed, shows error 302   \n",
       "4   Shared drive not accessible for users in France   \n",
       "\n",
       "                                                                                                                                                                                                Work notes  \\\n",
       "0  23-03-2021  08:59:28 - Service Desk created the ticket (Work notes)\\nAutomatic Assignment to Agent D in Service Desk team.\\n\\n23-03-2021  09:39:28 - Agent D (Work notes)\\nUser reported he can't lo...   \n",
       "1  02-07-2021  05:01:32 - Service Desk created the ticket (Work notes)\\nAssignment to Agent C in Service Desk team.\\n\\n02-07-2021  05:11:32 - Agent C (Worknotes)\\nUser reported backup is failing for ...   \n",
       "2  16-02-2021  04:29:43 - Service Desk created the ticket (Work notes)\\nAutomatic Assignment to Agent C in Service Desk team.\\n\\n16-02-2021  04:36:43 - Agent C (Worknotes)\\nUser reported is unable to...   \n",
       "3  16-02-2021  04:29:43 - Service Desk created the ticket (Work notes)\\nAutomatic Assignment to Agent John in Service Desk team.\\n\\n16-02-2021  05:29:43 - Agent John (Worknotes)\\nUser reported she is...   \n",
       "4  04/08/21   03:55:27- Service Desk created the ticket (Work notes)\\nAssignment to Agent John in Service Desk team.\\n\\n04/08/21   04:55:27- Agent John (Worknotes)\\nUser reported is unable to access ...   \n",
       "\n",
       "                  SubClass  \n",
       "0  Account eye _SubClass_1  \n",
       "1        Backup_SubClass_1  \n",
       "2        Backup_SubClass_2  \n",
       "3        Backup_SubClass_2  \n",
       "4        Backup_SubClass_2  "
      ]
     },
     "execution_count": 470,
     "metadata": {},
     "output_type": "execute_result"
    }
   ],
   "source": [
    "clusterFrame = demoData[['Number', 'Impacted application', 'Short Description','Work notes']]\n",
    "clusterFrame['SubClass'] = 'NO_MATCH'\n",
    "\n",
    "for i in range(clusterFrame.shape[0]):\n",
    "    # check imacted application\n",
    "    APP_NAME = clusterFrame['Impacted application'].iloc[i]\n",
    "\n",
    "    # assign app problem subclass\n",
    "    clusterFrame['SubClass'].iloc[i] = nlp_mod.assign_incident_subclass(clusterFrame['Short Description'].iloc[i], \\\n",
    "        clusterFrame[clusterFrame['Impacted application'] == APP_NAME].loc[0:(i-1)], APP_NAME)\n",
    "\n",
    "    # display process graph\n",
    "    \n",
    "    # update process graph\n",
    "        # only if the incident is resolved\n",
    "clusterFrame.head()\n"
   ]
  },
  {
   "cell_type": "code",
   "execution_count": 471,
   "id": "3c9392ee",
   "metadata": {},
   "outputs": [],
   "source": [
    "process_data = []\n",
    "logs = clusterFrame[clusterFrame['SubClass'] == 'Backup_SubClass_1'][['Number','Work notes']]\n",
    "for idx in range(logs.shape[0]):\n",
    "    process_data.extend(process_mining.preprocess_worknotes(logs.iloc[idx]))"
   ]
  },
  {
   "cell_type": "code",
   "execution_count": 472,
   "id": "8620ba7a",
   "metadata": {},
   "outputs": [],
   "source": [
    "process_data = pd.DataFrame(process_data, columns = ['Number','Timestamp','workNote'])"
   ]
  },
  {
   "cell_type": "code",
   "execution_count": 473,
   "id": "f04848b4",
   "metadata": {},
   "outputs": [],
   "source": [
    "process_data['workNote_type'] = process_data['workNote'].apply(lambda x: process_mining.classify_worknote(x))"
   ]
  },
  {
   "cell_type": "code",
   "execution_count": 474,
   "id": "cf87d493",
   "metadata": {},
   "outputs": [],
   "source": [
    "types = ['Assignment','Automatic Assignment','Remarks','Request Info','Ask if','Response was','Take Action','Action outcome',\\\n",
    "            'Escalate to','User reported','Raise','Resolved','Resolution Note']\n",
    "types = [x.lower() for x in types]\n",
    "process_data['stepClass'] = 'NO_MATCH'\n"
   ]
  },
  {
   "cell_type": "code",
   "execution_count": 475,
   "id": "a83cb501",
   "metadata": {},
   "outputs": [],
   "source": [
    "process_ = []\n",
    "for type_ in types:\n",
    "    sub_process = process_data[process_data['workNote_type'] == type_]\n",
    "    process_.extend(nlp_mod.cluster_and_replace(sub_process))\n",
    "\n",
    "process_ = pd.DataFrame(process_, columns = ['Number','Timestamp','workNote','workNote_type','stepClass'])\n",
    "#process_.drop(columns = ['workNote_type'], inplace=True)"
   ]
  },
  {
   "cell_type": "code",
   "execution_count": 476,
   "id": "55ef60f5",
   "metadata": {},
   "outputs": [],
   "source": [
    "starts, ends = process_mining.draw_process_flow(process_);"
   ]
  }
 ],
 "metadata": {
  "interpreter": {
   "hash": "5b8e76ef4735aacec8e6bf58a6789dfdfffb9c5ee4ad46c0e5ba76e84e85ce91"
  },
  "kernelspec": {
   "display_name": "Python 3.8.8",
   "language": "python",
   "name": "python3"
  },
  "language_info": {
   "codemirror_mode": {
    "name": "ipython",
    "version": 3
   },
   "file_extension": ".py",
   "mimetype": "text/x-python",
   "name": "python",
   "nbconvert_exporter": "python",
   "pygments_lexer": "ipython3",
   "version": "3.8.8"
  }
 },
 "nbformat": 4,
 "nbformat_minor": 5
}
